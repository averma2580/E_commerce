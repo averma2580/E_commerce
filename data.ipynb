{
 "cells": [
  {
   "cell_type": "code",
   "execution_count": 1,
   "id": "f1ea192a",
   "metadata": {},
   "outputs": [],
   "source": [
    "import pandas as pd\n",
    "import mysql.connector\n",
    "import os\n",
    "import matplotlib.pyplot as plt\n",
    "import seaborn as sns\n",
    "import numpy as np"
   ]
  },
  {
   "cell_type": "code",
   "execution_count": 2,
   "id": "72de573c",
   "metadata": {},
   "outputs": [],
   "source": [
    "csv_files=[\n",
    "    ('customers.csv','customers'),\n",
    "    ('orders.csv','orders'),\n",
    "    ('products.csv','products'),\n",
    "    ('sellers.csv','sellers'),\n",
    "    ('geolocation.csv','geolocation'),\n",
    "    ('payments.csv','payments'),\n",
    "    ('order_items.csv','order_items')\n",
    "    \n",
    "]"
   ]
  },
  {
   "cell_type": "code",
   "execution_count": 3,
   "id": "af6574df",
   "metadata": {},
   "outputs": [],
   "source": [
    "conn=mysql.connector.connect(\n",
    "    host='localhost',\n",
    "    user='root',\n",
    "    password='12345',\n",
    "    database='e_commerce',\n",
    "    auth_plugin='mysql_native_password'\n",
    "\n",
    ")"
   ]
  },
  {
   "cell_type": "code",
   "execution_count": 4,
   "id": "f4fe3828",
   "metadata": {},
   "outputs": [
    {
     "data": {
      "text/html": [
       "<div>\n",
       "<style scoped>\n",
       "    .dataframe tbody tr th:only-of-type {\n",
       "        vertical-align: middle;\n",
       "    }\n",
       "\n",
       "    .dataframe tbody tr th {\n",
       "        vertical-align: top;\n",
       "    }\n",
       "\n",
       "    .dataframe thead th {\n",
       "        text-align: right;\n",
       "    }\n",
       "</style>\n",
       "<table border=\"1\" class=\"dataframe\">\n",
       "  <thead>\n",
       "    <tr style=\"text-align: right;\">\n",
       "      <th></th>\n",
       "      <th>customer_city</th>\n",
       "    </tr>\n",
       "  </thead>\n",
       "  <tbody>\n",
       "    <tr>\n",
       "      <th>0</th>\n",
       "      <td>franca</td>\n",
       "    </tr>\n",
       "    <tr>\n",
       "      <th>1</th>\n",
       "      <td>sao bernardo do campo</td>\n",
       "    </tr>\n",
       "    <tr>\n",
       "      <th>2</th>\n",
       "      <td>sao paulo</td>\n",
       "    </tr>\n",
       "    <tr>\n",
       "      <th>3</th>\n",
       "      <td>mogi das cruzes</td>\n",
       "    </tr>\n",
       "    <tr>\n",
       "      <th>4</th>\n",
       "      <td>campinas</td>\n",
       "    </tr>\n",
       "    <tr>\n",
       "      <th>...</th>\n",
       "      <td>...</td>\n",
       "    </tr>\n",
       "    <tr>\n",
       "      <th>4114</th>\n",
       "      <td>siriji</td>\n",
       "    </tr>\n",
       "    <tr>\n",
       "      <th>4115</th>\n",
       "      <td>natividade da serra</td>\n",
       "    </tr>\n",
       "    <tr>\n",
       "      <th>4116</th>\n",
       "      <td>monte bonito</td>\n",
       "    </tr>\n",
       "    <tr>\n",
       "      <th>4117</th>\n",
       "      <td>sao rafael</td>\n",
       "    </tr>\n",
       "    <tr>\n",
       "      <th>4118</th>\n",
       "      <td>eugenio de castro</td>\n",
       "    </tr>\n",
       "  </tbody>\n",
       "</table>\n",
       "<p>4119 rows × 1 columns</p>\n",
       "</div>"
      ],
      "text/plain": [
       "              customer_city\n",
       "0                    franca\n",
       "1     sao bernardo do campo\n",
       "2                 sao paulo\n",
       "3           mogi das cruzes\n",
       "4                  campinas\n",
       "...                     ...\n",
       "4114                 siriji\n",
       "4115    natividade da serra\n",
       "4116           monte bonito\n",
       "4117             sao rafael\n",
       "4118      eugenio de castro\n",
       "\n",
       "[4119 rows x 1 columns]"
      ]
     },
     "execution_count": 4,
     "metadata": {},
     "output_type": "execute_result"
    }
   ],
   "source": [
    "a=pd.read_sql_query(\"\"\"SELECT DISTINCT customer_city FROM customers\"\"\",conn)\n",
    "a"
   ]
  },
  {
   "cell_type": "code",
   "execution_count": 4,
   "id": "c960f1a5",
   "metadata": {},
   "outputs": [],
   "source": [
    "cur=conn.cursor()"
   ]
  },
  {
   "cell_type": "code",
   "execution_count": 44,
   "id": "f8ed570e",
   "metadata": {},
   "outputs": [],
   "source": [
    "folder_path=\"C:/Users/prati/Downloads/Sql e-Commerce Project\""
   ]
  },
  {
   "cell_type": "code",
   "execution_count": 38,
   "id": "aaf8fadd",
   "metadata": {},
   "outputs": [],
   "source": [
    "def get_sql_type(pandas_dtype):\n",
    "    # Implement your logic to map Pandas data types to SQL data types\n",
    "    # Example mapping:\n",
    "    if pandas_dtype == 'object':\n",
    "        return 'VARCHAR(255)'\n",
    "    elif pandas_dtype == 'int64':\n",
    "        return 'INT'\n",
    "    elif pandas_dtype == 'float64':\n",
    "        return 'FLOAT'\n",
    "    # Add more mappings as needed\n",
    "    else:\n",
    "        raise ValueError(f\"Unsupported Pandas dtype: {pandas_dtype}\")\n"
   ]
  },
  {
   "cell_type": "code",
   "execution_count": 45,
   "id": "44331ddc",
   "metadata": {},
   "outputs": [
    {
     "name": "stdout",
     "output_type": "stream",
     "text": [
      "Processing geolocation.csv\n",
      "NaN values before replacement:\n",
      "geolocation_zip_code_prefix    0\n",
      "geolocation_lat                0\n",
      "geolocation_lng                0\n",
      "geolocation_city               0\n",
      "geolocation_state              0\n",
      "dtype: int64\n",
      "\n",
      "Processing payments.csv\n",
      "NaN values before replacement:\n",
      "order_id                0\n",
      "payment_sequential      0\n",
      "payment_type            0\n",
      "payment_installments    0\n",
      "payment_value           0\n",
      "dtype: int64\n",
      "\n",
      "Processing order_items.csv\n",
      "NaN values before replacement:\n",
      "order_id               0\n",
      "order_item_id          0\n",
      "product_id             0\n",
      "seller_id              0\n",
      "shipping_limit_date    0\n",
      "price                  0\n",
      "freight_value          0\n",
      "dtype: int64\n",
      "\n"
     ]
    }
   ],
   "source": [
    "try:\n",
    "    cursor = conn.cursor()\n",
    "\n",
    "    #  csv_files is a list of tuples like [(filename1.csv, table_name1), (filename2.csv, table_name2), ...]\n",
    "    for csv_file, table_name in csv_files:\n",
    "        file_path = os.path.join(folder_path, csv_file)\n",
    "        \n",
    "        # Read the CSV file into a pandas DataFrame\n",
    "        df = pd.read_csv(file_path)\n",
    "        \n",
    "        # Replace NaN with None to handle SQL NULL\n",
    "        df = df.where(pd.notnull(df), None)\n",
    "        \n",
    "        # Debugging: Check for NaN values\n",
    "        print(f\"Processing {csv_file}\")\n",
    "        print(f\"NaN values before replacement:\\n{df.isnull().sum()}\\n\")\n",
    "        \n",
    "        # Clean column names\n",
    "        df.columns = [col.replace(' ', '_').replace('-', '_').replace('.', '_') for col in df.columns]\n",
    "\n",
    "        # Generate the CREATE TABLE statement with appropriate data types\n",
    "        columns = ', '.join([f'`{col}` {get_sql_type(df[col].dtype)}' for col in df.columns])\n",
    "        create_table_query = f'CREATE TABLE IF NOT EXISTS `{table_name}` ({columns})'\n",
    "        cursor.execute(create_table_query)\n",
    "\n",
    "        # Insert DataFrame data into the MySQL table\n",
    "        for _, row in df.iterrows():\n",
    "            # Convert row to tuple and handle NaN/None explicitly\n",
    "            values = tuple(None if pd.isna(x) else x for x in row)\n",
    "            sql = f\"INSERT INTO `{table_name}` ({', '.join(['`' + col + '`' for col in df.columns])}) VALUES ({', '.join(['%s'] * len(row))})\"\n",
    "            cursor.execute(sql, values)\n",
    "\n",
    "        # Commit the transaction for the current CSV file\n",
    "        conn.commit()\n",
    "\n",
    "    # Close cursor and commit any remaining changes\n",
    "    cursor.close()\n",
    "\n",
    "finally:\n",
    "    # Close the connection\n",
    "    conn.close()"
   ]
  },
  {
   "cell_type": "markdown",
   "id": "fff196ef",
   "metadata": {},
   "source": [
    "1. List all unique cities where customers are located."
   ]
  },
  {
   "cell_type": "code",
   "execution_count": 72,
   "id": "412bdf38",
   "metadata": {},
   "outputs": [
    {
     "data": {
      "text/html": [
       "<div>\n",
       "<style scoped>\n",
       "    .dataframe tbody tr th:only-of-type {\n",
       "        vertical-align: middle;\n",
       "    }\n",
       "\n",
       "    .dataframe tbody tr th {\n",
       "        vertical-align: top;\n",
       "    }\n",
       "\n",
       "    .dataframe thead th {\n",
       "        text-align: right;\n",
       "    }\n",
       "</style>\n",
       "<table border=\"1\" class=\"dataframe\">\n",
       "  <thead>\n",
       "    <tr style=\"text-align: right;\">\n",
       "      <th></th>\n",
       "      <th>Country</th>\n",
       "    </tr>\n",
       "  </thead>\n",
       "  <tbody>\n",
       "    <tr>\n",
       "      <th>0</th>\n",
       "      <td>franca</td>\n",
       "    </tr>\n",
       "    <tr>\n",
       "      <th>1</th>\n",
       "      <td>sao bernardo do campo</td>\n",
       "    </tr>\n",
       "    <tr>\n",
       "      <th>2</th>\n",
       "      <td>sao paulo</td>\n",
       "    </tr>\n",
       "    <tr>\n",
       "      <th>3</th>\n",
       "      <td>mogi das cruzes</td>\n",
       "    </tr>\n",
       "    <tr>\n",
       "      <th>4</th>\n",
       "      <td>campinas</td>\n",
       "    </tr>\n",
       "  </tbody>\n",
       "</table>\n",
       "</div>"
      ],
      "text/plain": [
       "                 Country\n",
       "0                 franca\n",
       "1  sao bernardo do campo\n",
       "2              sao paulo\n",
       "3        mogi das cruzes\n",
       "4               campinas"
      ]
     },
     "execution_count": 72,
     "metadata": {},
     "output_type": "execute_result"
    }
   ],
   "source": [
    "query=(\"\"\"SELECT DISTINCT customer_city FROM customers\"\"\")\n",
    "cur.execute(query)\n",
    "data= cur.fetchall()\n",
    "df=pd.DataFrame(data,columns=['Country'])\n",
    "df.head()\n"
   ]
  },
  {
   "cell_type": "markdown",
   "id": "ec9e02c8",
   "metadata": {},
   "source": [
    "2. Count the number of orders placed in 2017."
   ]
  },
  {
   "cell_type": "code",
   "execution_count": 19,
   "id": "791f9d3a",
   "metadata": {},
   "outputs": [
    {
     "data": {
      "text/plain": [
       "('total orders placed in 2017 are', 45101)"
      ]
     },
     "execution_count": 19,
     "metadata": {},
     "output_type": "execute_result"
    }
   ],
   "source": [
    "query=(\"\"\"SELECT COUNT(order_id) FROM orders\n",
    "          where year(order_purchase_timestamp)=2017 \"\"\")\n",
    "cur.execute(query)\n",
    "data= cur.fetchall()\n",
    "\"total orders placed in 2017 are\",data[0][0]\n"
   ]
  },
  {
   "cell_type": "markdown",
   "id": "552647e9",
   "metadata": {},
   "source": [
    "3. Find the total sales per category."
   ]
  },
  {
   "cell_type": "code",
   "execution_count": 36,
   "id": "af91e404",
   "metadata": {},
   "outputs": [
    {
     "data": {
      "text/html": [
       "<div>\n",
       "<style scoped>\n",
       "    .dataframe tbody tr th:only-of-type {\n",
       "        vertical-align: middle;\n",
       "    }\n",
       "\n",
       "    .dataframe tbody tr th {\n",
       "        vertical-align: top;\n",
       "    }\n",
       "\n",
       "    .dataframe thead th {\n",
       "        text-align: right;\n",
       "    }\n",
       "</style>\n",
       "<table border=\"1\" class=\"dataframe\">\n",
       "  <thead>\n",
       "    <tr style=\"text-align: right;\">\n",
       "      <th></th>\n",
       "      <th>Category</th>\n",
       "      <th>Sales</th>\n",
       "    </tr>\n",
       "  </thead>\n",
       "  <tbody>\n",
       "    <tr>\n",
       "      <th>0</th>\n",
       "      <td>perfumery</td>\n",
       "      <td>506738.66</td>\n",
       "    </tr>\n",
       "    <tr>\n",
       "      <th>1</th>\n",
       "      <td>Furniture Decoration</td>\n",
       "      <td>1430176.39</td>\n",
       "    </tr>\n",
       "    <tr>\n",
       "      <th>2</th>\n",
       "      <td>telephony</td>\n",
       "      <td>486882.05</td>\n",
       "    </tr>\n",
       "    <tr>\n",
       "      <th>3</th>\n",
       "      <td>bed table bath</td>\n",
       "      <td>1712553.67</td>\n",
       "    </tr>\n",
       "    <tr>\n",
       "      <th>4</th>\n",
       "      <td>automotive</td>\n",
       "      <td>852294.33</td>\n",
       "    </tr>\n",
       "  </tbody>\n",
       "</table>\n",
       "</div>"
      ],
      "text/plain": [
       "               Category       Sales\n",
       "0             perfumery   506738.66\n",
       "1  Furniture Decoration  1430176.39\n",
       "2             telephony   486882.05\n",
       "3        bed table bath  1712553.67\n",
       "4            automotive   852294.33"
      ]
     },
     "execution_count": 36,
     "metadata": {},
     "output_type": "execute_result"
    }
   ],
   "source": [
    "query=(\"\"\"select products.product_category category,round(sum(payments.payment_value),2) sales\n",
    "            from products join order_items\n",
    "            on products.product_id=order_items.product_id\n",
    "            join payments\n",
    "            on payments.order_id=order_items.order_id\n",
    "            group by category \"\"\")\n",
    "cur.execute(query)\n",
    "data= cur.fetchall()\n",
    "df=pd.DataFrame(data,columns=[\"Category\",\"Sales\"])\n",
    "df.head()"
   ]
  },
  {
   "cell_type": "markdown",
   "id": "2adbf606",
   "metadata": {},
   "source": [
    "4. Calculate the percentage of orders that were paid in installments."
   ]
  },
  {
   "cell_type": "code",
   "execution_count": 44,
   "id": "b870d168",
   "metadata": {},
   "outputs": [
    {
     "data": {
      "text/plain": [
       "('The percentage of orders that were paid in installments is',\n",
       " Decimal('99.9981'))"
      ]
     },
     "execution_count": 44,
     "metadata": {},
     "output_type": "execute_result"
    }
   ],
   "source": [
    "query=(\"\"\"select (sum(case when payment_installments>=1 then 1 else 0 end))/count(*)*100 \n",
    "        from payments\"\"\")\n",
    "cur.execute(query)\n",
    "data= cur.fetchall()\n",
    "\"The percentage of orders that were paid in installments is\", data[0][0]"
   ]
  },
  {
   "cell_type": "markdown",
   "id": "01274785",
   "metadata": {},
   "source": [
    "5. Count the number of customers from each state."
   ]
  },
  {
   "cell_type": "code",
   "execution_count": 78,
   "id": "6184e0e2",
   "metadata": {},
   "outputs": [
    {
     "data": {
      "image/png": "[encoded data removed]",
      "text/plain": [
       "<Figure size 576x288 with 1 Axes>"
      ]
     },
     "metadata": {
      "needs_background": "light"
     },
     "output_type": "display_data"
    }
   ],
   "source": [
    "query=(\"\"\"select customer_state,count(customer_id) as customer_count\n",
    "            from customers group by customer_state\"\"\")\n",
    "cur.execute(query)\n",
    "data= cur.fetchall()\n",
    "df=pd.DataFrame(data,columns=['State','Customer_count'])\n",
    "df.sort_values(by='Customer_count',ascending=False)\n",
    "\n",
    "\n",
    "plt.figure(figsize=(8,4))\n",
    "plt.bar(df['State'],df['Customer_count'])\n",
    "plt.xticks(rotation=90)\n",
    "plt.xlabel('States')\n",
    "plt.ylabel('customer_count')\n",
    "plt.title(\"Count of customer by States\")\n",
    "plt.show()\n",
    "\n"
   ]
  },
  {
   "cell_type": "markdown",
   "id": "801d4968",
   "metadata": {},
   "source": [
    "6. Calculate the number of orders per month in 2018."
   ]
  },
  {
   "cell_type": "code",
   "execution_count": 110,
   "id": "728b7101",
   "metadata": {},
   "outputs": [
    {
     "data": {
      "text/html": [
       "<div>\n",
       "<style scoped>\n",
       "    .dataframe tbody tr th:only-of-type {\n",
       "        vertical-align: middle;\n",
       "    }\n",
       "\n",
       "    .dataframe tbody tr th {\n",
       "        vertical-align: top;\n",
       "    }\n",
       "\n",
       "    .dataframe thead th {\n",
       "        text-align: right;\n",
       "    }\n",
       "</style>\n",
       "<table border=\"1\" class=\"dataframe\">\n",
       "  <thead>\n",
       "    <tr style=\"text-align: right;\">\n",
       "      <th></th>\n",
       "      <th>months</th>\n",
       "      <th>no_of_orders</th>\n",
       "    </tr>\n",
       "  </thead>\n",
       "  <tbody>\n",
       "    <tr>\n",
       "      <th>0</th>\n",
       "      <td>January</td>\n",
       "      <td>7269</td>\n",
       "    </tr>\n",
       "    <tr>\n",
       "      <th>1</th>\n",
       "      <td>February</td>\n",
       "      <td>6728</td>\n",
       "    </tr>\n",
       "    <tr>\n",
       "      <th>2</th>\n",
       "      <td>March</td>\n",
       "      <td>7211</td>\n",
       "    </tr>\n",
       "    <tr>\n",
       "      <th>3</th>\n",
       "      <td>April</td>\n",
       "      <td>6939</td>\n",
       "    </tr>\n",
       "    <tr>\n",
       "      <th>4</th>\n",
       "      <td>May</td>\n",
       "      <td>6873</td>\n",
       "    </tr>\n",
       "    <tr>\n",
       "      <th>5</th>\n",
       "      <td>June</td>\n",
       "      <td>6167</td>\n",
       "    </tr>\n",
       "    <tr>\n",
       "      <th>6</th>\n",
       "      <td>July</td>\n",
       "      <td>6292</td>\n",
       "    </tr>\n",
       "    <tr>\n",
       "      <th>7</th>\n",
       "      <td>August</td>\n",
       "      <td>6512</td>\n",
       "    </tr>\n",
       "    <tr>\n",
       "      <th>8</th>\n",
       "      <td>September</td>\n",
       "      <td>16</td>\n",
       "    </tr>\n",
       "    <tr>\n",
       "      <th>9</th>\n",
       "      <td>October</td>\n",
       "      <td>4</td>\n",
       "    </tr>\n",
       "  </tbody>\n",
       "</table>\n",
       "</div>"
      ],
      "text/plain": [
       "      months  no_of_orders\n",
       "0    January          7269\n",
       "1   February          6728\n",
       "2      March          7211\n",
       "3      April          6939\n",
       "4        May          6873\n",
       "5       June          6167\n",
       "6       July          6292\n",
       "7     August          6512\n",
       "8  September            16\n",
       "9    October             4"
      ]
     },
     "execution_count": 110,
     "metadata": {},
     "output_type": "execute_result"
    }
   ],
   "source": [
    "query=(\"\"\"select monthname(order_purchase_timestamp) months, count(order_id)\n",
    "            from orders where year(order_purchase_timestamp)=2018\n",
    "            group by months order by month(order_purchase_timestamp)  \"\"\")\n",
    "cur.execute(query)\n",
    "data= cur.fetchall()\n",
    "df=pd.DataFrame(data,columns=['months','no_of_orders'])\n",
    "df\n"
   ]
  },
  {
   "cell_type": "markdown",
   "id": "56c79cee",
   "metadata": {},
   "source": [
    "7. Find the average number of products per order, grouped by customer city."
   ]
  },
  {
   "cell_type": "code",
   "execution_count": 87,
   "id": "1caf6683",
   "metadata": {},
   "outputs": [
    {
     "data": {
      "text/html": [
       "<div>\n",
       "<style scoped>\n",
       "    .dataframe tbody tr th:only-of-type {\n",
       "        vertical-align: middle;\n",
       "    }\n",
       "\n",
       "    .dataframe tbody tr th {\n",
       "        vertical-align: top;\n",
       "    }\n",
       "\n",
       "    .dataframe thead th {\n",
       "        text-align: right;\n",
       "    }\n",
       "</style>\n",
       "<table border=\"1\" class=\"dataframe\">\n",
       "  <thead>\n",
       "    <tr style=\"text-align: right;\">\n",
       "      <th></th>\n",
       "      <th>city</th>\n",
       "      <th>Avg_products_per_order</th>\n",
       "    </tr>\n",
       "  </thead>\n",
       "  <tbody>\n",
       "    <tr>\n",
       "      <th>0</th>\n",
       "      <td>sao paulo</td>\n",
       "      <td>1.16</td>\n",
       "    </tr>\n",
       "    <tr>\n",
       "      <th>1</th>\n",
       "      <td>canoas</td>\n",
       "      <td>1.11</td>\n",
       "    </tr>\n",
       "    <tr>\n",
       "      <th>2</th>\n",
       "      <td>bage</td>\n",
       "      <td>1.05</td>\n",
       "    </tr>\n",
       "    <tr>\n",
       "      <th>3</th>\n",
       "      <td>brasilia</td>\n",
       "      <td>1.13</td>\n",
       "    </tr>\n",
       "    <tr>\n",
       "      <th>4</th>\n",
       "      <td>rio de janeiro</td>\n",
       "      <td>1.15</td>\n",
       "    </tr>\n",
       "    <tr>\n",
       "      <th>...</th>\n",
       "      <td>...</td>\n",
       "      <td>...</td>\n",
       "    </tr>\n",
       "    <tr>\n",
       "      <th>4105</th>\n",
       "      <td>morro agudo de goias</td>\n",
       "      <td>1.00</td>\n",
       "    </tr>\n",
       "    <tr>\n",
       "      <th>4106</th>\n",
       "      <td>morro vermelho</td>\n",
       "      <td>1.00</td>\n",
       "    </tr>\n",
       "    <tr>\n",
       "      <th>4107</th>\n",
       "      <td>guairaca</td>\n",
       "      <td>2.00</td>\n",
       "    </tr>\n",
       "    <tr>\n",
       "      <th>4108</th>\n",
       "      <td>vila bela da santissima trindade</td>\n",
       "      <td>1.00</td>\n",
       "    </tr>\n",
       "    <tr>\n",
       "      <th>4109</th>\n",
       "      <td>padre paraiso</td>\n",
       "      <td>1.00</td>\n",
       "    </tr>\n",
       "  </tbody>\n",
       "</table>\n",
       "<p>4110 rows × 2 columns</p>\n",
       "</div>"
      ],
      "text/plain": [
       "                                  city Avg_products_per_order\n",
       "0                            sao paulo                   1.16\n",
       "1                               canoas                   1.11\n",
       "2                                 bage                   1.05\n",
       "3                             brasilia                   1.13\n",
       "4                       rio de janeiro                   1.15\n",
       "...                                ...                    ...\n",
       "4105              morro agudo de goias                   1.00\n",
       "4106                    morro vermelho                   1.00\n",
       "4107                          guairaca                   2.00\n",
       "4108  vila bela da santissima trindade                   1.00\n",
       "4109                     padre paraiso                   1.00\n",
       "\n",
       "[4110 rows x 2 columns]"
      ]
     },
     "execution_count": 87,
     "metadata": {},
     "output_type": "execute_result"
    }
   ],
   "source": [
    "query=\"\"\"with count_per_order as\n",
    "            (select orders.order_id,orders.customer_id,count(order_items.order_id) as oc\n",
    "                from orders join order_items\n",
    "                on orders.order_id=order_items.order_id\n",
    "                group by orders.order_id,orders.customer_id )\n",
    "            \n",
    "            select customers.customer_city,round(avg(count_per_order.oc),2) average_order\n",
    "            from customers join count_per_order\n",
    "            on customers.customer_id=count_per_order.customer_id\n",
    "            group by customers.customer_city\"\"\"\n",
    "cur.execute(query)\n",
    "data= cur.fetchall()\n",
    "df=pd.DataFrame(data,columns=['city','Avg_products_per_order'])\n",
    "df"
   ]
  },
  {
   "cell_type": "markdown",
   "id": "d91cad7b",
   "metadata": {},
   "source": [
    "8. Calculate the percentage of total revenue contributed by each product category."
   ]
  },
  {
   "cell_type": "code",
   "execution_count": 95,
   "id": "9f8dbd5f",
   "metadata": {},
   "outputs": [
    {
     "data": {
      "text/html": [
       "<div>\n",
       "<style scoped>\n",
       "    .dataframe tbody tr th:only-of-type {\n",
       "        vertical-align: middle;\n",
       "    }\n",
       "\n",
       "    .dataframe tbody tr th {\n",
       "        vertical-align: top;\n",
       "    }\n",
       "\n",
       "    .dataframe thead th {\n",
       "        text-align: right;\n",
       "    }\n",
       "</style>\n",
       "<table border=\"1\" class=\"dataframe\">\n",
       "  <thead>\n",
       "    <tr style=\"text-align: right;\">\n",
       "      <th></th>\n",
       "      <th>Categogy</th>\n",
       "      <th>Percentage_distribution</th>\n",
       "    </tr>\n",
       "  </thead>\n",
       "  <tbody>\n",
       "    <tr>\n",
       "      <th>0</th>\n",
       "      <td>bed table bath</td>\n",
       "      <td>10.70</td>\n",
       "    </tr>\n",
       "    <tr>\n",
       "      <th>1</th>\n",
       "      <td>HEALTH BEAUTY</td>\n",
       "      <td>10.35</td>\n",
       "    </tr>\n",
       "    <tr>\n",
       "      <th>2</th>\n",
       "      <td>computer accessories</td>\n",
       "      <td>9.90</td>\n",
       "    </tr>\n",
       "    <tr>\n",
       "      <th>3</th>\n",
       "      <td>Furniture Decoration</td>\n",
       "      <td>8.93</td>\n",
       "    </tr>\n",
       "    <tr>\n",
       "      <th>4</th>\n",
       "      <td>Watches present</td>\n",
       "      <td>8.93</td>\n",
       "    </tr>\n",
       "  </tbody>\n",
       "</table>\n",
       "</div>"
      ],
      "text/plain": [
       "               Categogy  Percentage_distribution\n",
       "0        bed table bath                    10.70\n",
       "1         HEALTH BEAUTY                    10.35\n",
       "2  computer accessories                     9.90\n",
       "3  Furniture Decoration                     8.93\n",
       "4       Watches present                     8.93"
      ]
     },
     "execution_count": 95,
     "metadata": {},
     "output_type": "execute_result"
    }
   ],
   "source": [
    "query=\"\"\"select products.product_category category,round((sum(payments.payment_value)/(select sum(payment_value)\n",
    "            from payments))*100,2) sales_percentage\n",
    "            from products join order_items\n",
    "            on products.product_id=order_items.product_id\n",
    "            join payments\n",
    "            on payments.order_id=order_items.order_id\n",
    "            group by category  order by sales_percentage desc \"\"\"\n",
    "cur.execute(query)\n",
    "data= cur.fetchall()\n",
    "df=pd.DataFrame(data,columns=['Categogy','Percentage_distribution'])\n",
    "df.head()"
   ]
  },
  {
   "cell_type": "markdown",
   "id": "0ab24c15",
   "metadata": {},
   "source": [
    "9. Identify the correlation between product price and the number of times a product has been purchased."
   ]
  },
  {
   "cell_type": "code",
   "execution_count": 103,
   "id": "47ed4bbb",
   "metadata": {},
   "outputs": [
    {
     "name": "stdout",
     "output_type": "stream",
     "text": [
      "The correlation between price and number of times\n",
      "aproduct has been purchased is  -0.11\n"
     ]
    }
   ],
   "source": [
    "query=\"\"\"select products.product_category,count(order_items.product_id),\n",
    "        round(avg(order_items.price),2) from products join order_items\n",
    "        on products.product_id=order_items.product_id\n",
    "        group by products.product_category\"\"\"\n",
    "cur.execute(query)\n",
    "data= cur.fetchall()\n",
    "df=pd.DataFrame(data,columns=['Category','Order_count','Price'])\n",
    "df.head()\n",
    "a=np.corrcoef(df['Order_count'],df['Price'])\n",
    "print('The correlation between price and number of times\\naproduct has been purchased is ',round(a[0][1],2))"
   ]
  },
  {
   "cell_type": "markdown",
   "id": "5e7e957b",
   "metadata": {},
   "source": [
    "10. Calculate the total revenue generated by each seller, and rank them by revenue."
   ]
  },
  {
   "cell_type": "code",
   "execution_count": 37,
   "id": "3a74b66f",
   "metadata": {},
   "outputs": [
    {
     "data": {
      "image/png": "[encoded data removed]",
      "text/plain": [
       "<Figure size 432x288 with 1 Axes>"
      ]
     },
     "metadata": {
      "needs_background": "light"
     },
     "output_type": "display_data"
    }
   ],
   "source": [
    "query=\"\"\"select *,dense_rank() over(order by revenue desc) as rn from\n",
    "        (select order_items.seller_id,sum(payments.payment_value)\n",
    "        revenue from order_items join payments\n",
    "        on  order_items.order_id=payments.order_id\n",
    "        group by order_items.seller_id) as a\"\"\"\n",
    "cur.execute(query)\n",
    "data= cur.fetchall()\n",
    "df=pd.DataFrame(data,columns=['seller_id','revenue','rank'])\n",
    "df_head=df.head()\n",
    "sns.barplot(x='rank',y='revenue',data=df_head)\n",
    "plt.show()"
   ]
  },
  {
   "cell_type": "markdown",
   "id": "5f3b1eb9",
   "metadata": {},
   "source": [
    "11. Calculate the moving average of order values for each customer over their order history."
   ]
  },
  {
   "cell_type": "code",
   "execution_count": 34,
   "id": "7aaeb3a9",
   "metadata": {},
   "outputs": [
    {
     "data": {
      "text/html": [
       "<div>\n",
       "<style scoped>\n",
       "    .dataframe tbody tr th:only-of-type {\n",
       "        vertical-align: middle;\n",
       "    }\n",
       "\n",
       "    .dataframe tbody tr th {\n",
       "        vertical-align: top;\n",
       "    }\n",
       "\n",
       "    .dataframe thead th {\n",
       "        text-align: right;\n",
       "    }\n",
       "</style>\n",
       "<table border=\"1\" class=\"dataframe\">\n",
       "  <thead>\n",
       "    <tr style=\"text-align: right;\">\n",
       "      <th></th>\n",
       "      <th>customer_id</th>\n",
       "      <th>date/time</th>\n",
       "      <th>Order_value</th>\n",
       "      <th>Running_Avg</th>\n",
       "    </tr>\n",
       "  </thead>\n",
       "  <tbody>\n",
       "    <tr>\n",
       "      <th>0</th>\n",
       "      <td>00012a2ce6f8dcda20d059ce98491703</td>\n",
       "      <td>2017-11-14 16:08:26</td>\n",
       "      <td>114.74</td>\n",
       "      <td>114.739998</td>\n",
       "    </tr>\n",
       "    <tr>\n",
       "      <th>1</th>\n",
       "      <td>000161a058600d5901f007fab4c27140</td>\n",
       "      <td>2017-07-16 09:40:32</td>\n",
       "      <td>67.41</td>\n",
       "      <td>67.410004</td>\n",
       "    </tr>\n",
       "    <tr>\n",
       "      <th>2</th>\n",
       "      <td>0001fd6190edaaf884bcaf3d49edf079</td>\n",
       "      <td>2017-02-28 11:06:43</td>\n",
       "      <td>195.42</td>\n",
       "      <td>195.419998</td>\n",
       "    </tr>\n",
       "    <tr>\n",
       "      <th>3</th>\n",
       "      <td>0002414f95344307404f0ace7a26f1d5</td>\n",
       "      <td>2017-08-16 13:09:20</td>\n",
       "      <td>179.35</td>\n",
       "      <td>179.350006</td>\n",
       "    </tr>\n",
       "    <tr>\n",
       "      <th>4</th>\n",
       "      <td>000379cdec625522490c315e70c7a9fb</td>\n",
       "      <td>2018-04-02 13:42:17</td>\n",
       "      <td>107.01</td>\n",
       "      <td>107.010002</td>\n",
       "    </tr>\n",
       "  </tbody>\n",
       "</table>\n",
       "</div>"
      ],
      "text/plain": [
       "                        customer_id            date/time  Order_value  \\\n",
       "0  00012a2ce6f8dcda20d059ce98491703  2017-11-14 16:08:26       114.74   \n",
       "1  000161a058600d5901f007fab4c27140  2017-07-16 09:40:32        67.41   \n",
       "2  0001fd6190edaaf884bcaf3d49edf079  2017-02-28 11:06:43       195.42   \n",
       "3  0002414f95344307404f0ace7a26f1d5  2017-08-16 13:09:20       179.35   \n",
       "4  000379cdec625522490c315e70c7a9fb  2018-04-02 13:42:17       107.01   \n",
       "\n",
       "   Running_Avg  \n",
       "0   114.739998  \n",
       "1    67.410004  \n",
       "2   195.419998  \n",
       "3   179.350006  \n",
       "4   107.010002  "
      ]
     },
     "execution_count": 34,
     "metadata": {},
     "output_type": "execute_result"
    }
   ],
   "source": [
    "query=\"\"\"select customer_id,order_purchase_timestamp,payment,\n",
    "            avg(payment) over(partition by customer_id\n",
    "            order by order_purchase_timestamp rows between 2 preceding\n",
    "            and current row) as mov_avg\n",
    "            from\n",
    "            (select orders.customer_id,orders.order_purchase_timestamp,\n",
    "            payments.payment_value as payment\n",
    "            from payments join orders\n",
    "            on payments.order_id=orders.order_id) as a\"\"\"\n",
    "cur.execute(query)\n",
    "data= cur.fetchall()\n",
    "df=pd.DataFrame(data,columns=['customer_id','date/time','Order_value','Running_Avg'])\n",
    "df.head()"
   ]
  },
  {
   "cell_type": "markdown",
   "id": "d12866ee",
   "metadata": {},
   "source": [
    "12. Calculate the cumulative sales per month for each year."
   ]
  },
  {
   "cell_type": "code",
   "execution_count": 13,
   "id": "ad7341ea",
   "metadata": {},
   "outputs": [
    {
     "data": {
      "text/html": [
       "<div>\n",
       "<style scoped>\n",
       "    .dataframe tbody tr th:only-of-type {\n",
       "        vertical-align: middle;\n",
       "    }\n",
       "\n",
       "    .dataframe tbody tr th {\n",
       "        vertical-align: top;\n",
       "    }\n",
       "\n",
       "    .dataframe thead th {\n",
       "        text-align: right;\n",
       "    }\n",
       "</style>\n",
       "<table border=\"1\" class=\"dataframe\">\n",
       "  <thead>\n",
       "    <tr style=\"text-align: right;\">\n",
       "      <th></th>\n",
       "      <th>years</th>\n",
       "      <th>month</th>\n",
       "      <th>payments</th>\n",
       "      <th>cume_payment</th>\n",
       "    </tr>\n",
       "  </thead>\n",
       "  <tbody>\n",
       "    <tr>\n",
       "      <th>0</th>\n",
       "      <td>2016</td>\n",
       "      <td>December</td>\n",
       "      <td>19.62</td>\n",
       "      <td>19.62</td>\n",
       "    </tr>\n",
       "    <tr>\n",
       "      <th>1</th>\n",
       "      <td>2016</td>\n",
       "      <td>October</td>\n",
       "      <td>59090.48</td>\n",
       "      <td>59110.10</td>\n",
       "    </tr>\n",
       "    <tr>\n",
       "      <th>2</th>\n",
       "      <td>2016</td>\n",
       "      <td>September</td>\n",
       "      <td>252.24</td>\n",
       "      <td>59362.34</td>\n",
       "    </tr>\n",
       "    <tr>\n",
       "      <th>3</th>\n",
       "      <td>2017</td>\n",
       "      <td>April</td>\n",
       "      <td>417788.03</td>\n",
       "      <td>477150.37</td>\n",
       "    </tr>\n",
       "    <tr>\n",
       "      <th>4</th>\n",
       "      <td>2017</td>\n",
       "      <td>August</td>\n",
       "      <td>674396.32</td>\n",
       "      <td>1151546.69</td>\n",
       "    </tr>\n",
       "  </tbody>\n",
       "</table>\n",
       "</div>"
      ],
      "text/plain": [
       "   years      month   payments  cume_payment\n",
       "0   2016   December      19.62         19.62\n",
       "1   2016    October   59090.48      59110.10\n",
       "2   2016  September     252.24      59362.34\n",
       "3   2017      April  417788.03     477150.37\n",
       "4   2017     August  674396.32    1151546.69"
      ]
     },
     "execution_count": 13,
     "metadata": {},
     "output_type": "execute_result"
    }
   ],
   "source": [
    "query=\"\"\"select years,months,payment,sum(payment)\n",
    "            over(order by years,months) cumulative_sales from\n",
    "            (select year(orders.order_purchase_timestamp) as years,\n",
    "            monthname(orders.order_purchase_timestamp) as months,\n",
    "            round(sum(payments.payment_value),2) as payment\n",
    "            from orders join payments\n",
    "            on orders.order_id=payments.order_id\n",
    "            group by years,months order by years,months) as a\"\"\"\n",
    "cur.execute(query)\n",
    "data= cur.fetchall()\n",
    "df=pd.DataFrame(data,columns=['years','month','payments','cume_payment'])\n",
    "df.head()\n"
   ]
  },
  {
   "cell_type": "markdown",
   "id": "77f993c5",
   "metadata": {},
   "source": [
    "13. Calculate the year-over-year growth rate of total sales."
   ]
  },
  {
   "cell_type": "code",
   "execution_count": 41,
   "id": "8f596567",
   "metadata": {},
   "outputs": [
    {
     "data": {
      "text/html": [
       "<div>\n",
       "<style scoped>\n",
       "    .dataframe tbody tr th:only-of-type {\n",
       "        vertical-align: middle;\n",
       "    }\n",
       "\n",
       "    .dataframe tbody tr th {\n",
       "        vertical-align: top;\n",
       "    }\n",
       "\n",
       "    .dataframe thead th {\n",
       "        text-align: right;\n",
       "    }\n",
       "</style>\n",
       "<table border=\"1\" class=\"dataframe\">\n",
       "  <thead>\n",
       "    <tr style=\"text-align: right;\">\n",
       "      <th></th>\n",
       "      <th>Years</th>\n",
       "      <th>Payments</th>\n",
       "      <th>Pre_Year_payment</th>\n",
       "      <th>YoY% Growth</th>\n",
       "    </tr>\n",
       "  </thead>\n",
       "  <tbody>\n",
       "    <tr>\n",
       "      <th>0</th>\n",
       "      <td>2017</td>\n",
       "      <td>7249746.73</td>\n",
       "      <td>59362.34</td>\n",
       "      <td>12112.703761</td>\n",
       "    </tr>\n",
       "    <tr>\n",
       "      <th>1</th>\n",
       "      <td>2018</td>\n",
       "      <td>8699763.05</td>\n",
       "      <td>7249746.73</td>\n",
       "      <td>20.000924</td>\n",
       "    </tr>\n",
       "  </tbody>\n",
       "</table>\n",
       "</div>"
      ],
      "text/plain": [
       "   Years    Payments  Pre_Year_payment   YoY% Growth\n",
       "0   2017  7249746.73          59362.34  12112.703761\n",
       "1   2018  8699763.05        7249746.73     20.000924"
      ]
     },
     "execution_count": 41,
     "metadata": {},
     "output_type": "execute_result"
    }
   ],
   "source": [
    "query=\"\"\"         WITH cte AS (\n",
    "    SELECT\n",
    "        YEAR(orders.order_purchase_timestamp) AS years,\n",
    "        ROUND(SUM(payments.payment_value), 2) AS payment\n",
    "    FROM\n",
    "        orders\n",
    "    JOIN payments ON orders.order_id = payments.order_id\n",
    "    GROUP BY\n",
    "        years\n",
    "),\n",
    "cte2 AS (\n",
    "    SELECT\n",
    "        c1.years,\n",
    "        c1.payment,\n",
    "        c2.payment AS pre_year_payment\n",
    "    FROM\n",
    "        cte c1\n",
    "    JOIN cte c2 ON c1.years = c2.years + 1\n",
    ")\n",
    "SELECT\n",
    "    cte2.*,\n",
    "    ((cte.payment - pre_year_payment) / pre_year_payment) * 100 AS YOYGrowth\n",
    "FROM\n",
    "    cte2\n",
    "JOIN cte ON cte2.years = cte.years\n",
    "ORDER BY\n",
    "    cte2.years;\n",
    "            \n",
    "            \"\"\"\n",
    "cur.execute(query)\n",
    "data= cur.fetchall()\n",
    "data\n",
    "df=pd.DataFrame(data,columns=['Years','Payments','Pre_Year_payment','YoY% Growth'])\n",
    "df"
   ]
  },
  {
   "cell_type": "markdown",
   "id": "de23efc5",
   "metadata": {},
   "source": [
    "14. Calculate the retention rate of customers, defined as the percentage of customers who make another purchase within 6 months of their first purchase."
   ]
  },
  {
   "cell_type": "code",
   "execution_count": 139,
   "id": "712351bc",
   "metadata": {},
   "outputs": [
    {
     "data": {
      "text/plain": [
       "[(None,)]"
      ]
     },
     "execution_count": 139,
     "metadata": {},
     "output_type": "execute_result"
    }
   ],
   "source": [
    "query=\"\"\"with a as (select customers.customer_id,min(orders.order_purchase_timestamp)\n",
    "            first_order from customers join orders\n",
    "            on customers.customer_id=orders.customer_id\n",
    "            group by customers.customer_id),\n",
    "            \n",
    "            b as (select a.customer_id,count(distinct orders.order_purchase_timestamp)\n",
    "            from a join orders\n",
    "            on orders.customer_id=a.customer_id\n",
    "            and orders.order_purchase_timestamp>first_order\n",
    "            and orders.order_purchase_timestamp<\n",
    "            date_add(first_order,interval 6 month)\n",
    "            group by a.customer_id)\n",
    "            select 100*(count(distinct a.customer_id)/count(distinct b.customer_id) )\n",
    "            from a left join b\n",
    "            on a.customer_id=b.customer_id\"\"\"\n",
    "cur.execute(query)\n",
    "\n",
    "data= cur.fetchall()\n",
    "data"
   ]
  },
  {
   "cell_type": "markdown",
   "id": "5ecba552",
   "metadata": {},
   "source": [
    "15. Identify the top 3 customers who spent the most money in each year."
   ]
  },
  {
   "cell_type": "code",
   "execution_count": 21,
   "id": "878d5060",
   "metadata": {},
   "outputs": [
    {
     "data": {
      "image/png": "[encoded data removed]",
      "text/plain": [
       "<Figure size 432x288 with 1 Axes>"
      ]
     },
     "metadata": {
      "needs_background": "light"
     },
     "output_type": "display_data"
    }
   ],
   "source": [
    "query=\"\"\"select years,customer_id,payment,d_rank from\n",
    "            (select year(orders.order_purchase_timestamp) years,orders.customer_id,sum(payments.payment_value) payment,\n",
    "            dense_rank() over(partition by year(orders.order_purchase_timestamp)\n",
    "            order by sum(payments.payment_value) desc) d_rank\n",
    "            from orders join payments\n",
    "            on payments.order_id=orders.order_id\n",
    "            group by year(orders.order_purchase_timestamp),\n",
    "            orders.customer_id) as a \n",
    "            where d_rank<=3\"\"\"\n",
    "cur.execute(query)\n",
    "data= cur.fetchall()\n",
    "df=pd.DataFrame(data,columns=['Years','id','amount','rank'])\n",
    "sns.barplot(x='id',y='amount',data=df,hue='Years')\n",
    "plt.xticks(rotation=90)\n",
    "plt.show()"
   ]
  },
  {
   "cell_type": "code",
   "execution_count": null,
   "id": "cbe6a8d0",
   "metadata": {},
   "outputs": [],
   "source": []
  }
 ],
 "metadata": {
  "kernelspec": {
   "display_name": "Python 3",
   "language": "python",
   "name": "python3"
  },
  "language_info": {
   "codemirror_mode": {
    "name": "ipython",
    "version": 3
   },
   "file_extension": ".py",
   "mimetype": "text/x-python",
   "name": "python",
   "nbconvert_exporter": "python",
   "pygments_lexer": "ipython3",
   "version": "3.8.8"
  }
 },
 "nbformat": 4,
 "nbformat_minor": 5
}
